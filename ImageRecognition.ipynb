{
  "nbformat": 4,
  "nbformat_minor": 0,
  "metadata": {
    "colab": {
      "name": "ImageRecognition.ipynb",
      "provenance": [],
      "collapsed_sections": []
    },
    "kernelspec": {
      "name": "python3",
      "display_name": "Python 3"
    }
  },
  "cells": [
    {
      "cell_type": "code",
      "metadata": {
        "id": "OMKKDt-6Y_S0"
      },
      "source": [
        "import numpy\n",
        "from tensorflow import keras\n",
        "from tensorflow.keras import layers\n",
        "from keras.layers import Dropout, Dense, Flatten, BatchNormalization\n",
        "from keras.layers.convolutional import Conv2D, MaxPooling2D\n",
        "from tensorflow.keras.models import Sequential\n",
        "from keras.datasets import cifar10\n",
        "from keras.utils import np_utils\n",
        "from keras.constraints import maxnorm"
      ],
      "execution_count": null,
      "outputs": []
    },
    {
      "cell_type": "code",
      "metadata": {
        "id": "NWnAgLo4dsan",
        "outputId": "69f076e4-5972-4ecc-b530-e483eb5c34ae",
        "colab": {
          "base_uri": "https://localhost:8080/",
          "height": 34
        }
      },
      "source": [
        "seed = 21\n",
        "# Prepare data - input values are the pixels in the image\n",
        "(x_train, y_train), (x_test, y_test) = cifar10.load_data()\n",
        "# convert data from integer type to float\n",
        "x_train = x_train.astype('float32')\n",
        "x_test = x_test.astype('float32')\n",
        "# normalize input data from 0-255 to 0-1, to narrow the input values range, for better performance\n",
        "x_train = x_train / 255\n",
        "x_test = x_test / 255\n",
        "# one-hot encode output\n",
        "y_train = np_utils.to_categorical(y_train)\n",
        "y_test = np_utils.to_categorical(y_test)\n",
        "class_nr = y_test.shape[1]\n",
        "print(class_nr)"
      ],
      "execution_count": null,
      "outputs": [
        {
          "output_type": "stream",
          "text": [
            "10\n"
          ],
          "name": "stdout"
        }
      ]
    },
    {
      "cell_type": "code",
      "metadata": {
        "id": "AIKiw5HHnqFs",
        "outputId": "cfc06409-cd46-435c-f39e-70f1da8a1d54",
        "colab": {
          "base_uri": "https://localhost:8080/",
          "height": 34
        }
      },
      "source": [
        "# Definind the model\n",
        "model = Sequential()\n",
        "model.add(Conv2D(32, (3, 3), input_shape=x_train.shape[1:], activation='relu', padding='same'))\n",
        "# drop 20% of the existing connections between layers\n",
        "model.add(Dropout(0.2))\n",
        "print(x_train.shape ,x_train.shape[1:])\n",
        "model.add(BatchNormalization())\n",
        "model.add(Conv2D(64, (3, 3), activation='relu', padding='same'))\n",
        "model.add(MaxPooling2D(pool_size=(2, 2)))\n",
        "model.add(Dropout(0.2))\n",
        "model.add(BatchNormalization())\n",
        "model.add(Conv2D(64, (3, 3), activation='relu', padding='same'))\n",
        "model.add(MaxPooling2D(pool_size=(2, 2)))\n",
        "model.add(Dropout(0.2))\n",
        "model.add(BatchNormalization())\n",
        "model.add(Conv2D(128, (3, 3), activation='relu', padding='same'))\n",
        "model.add(Dropout(0.2))\n",
        "model.add(BatchNormalization())\n",
        "model.add(Flatten())\n",
        "model.add(Dropout(0.2))\n",
        "model.add(Dense(256, activation='relu', kernel_constraint=maxnorm(3)))\n",
        "model.add(Dropout(0.2))\n",
        "model.add(BatchNormalization())\n",
        "model.add(Dense(128, activation='relu', kernel_constraint=maxnorm(3)))\n",
        "model.add(Dropout(0.2))\n",
        "model.add(BatchNormalization())\n",
        "model.add(Dense(class_nr, activation='softmax'))"
      ],
      "execution_count": null,
      "outputs": [
        {
          "output_type": "stream",
          "text": [
            "(50000, 32, 32, 3) (32, 32, 3)\n"
          ],
          "name": "stdout"
        }
      ]
    },
    {
      "cell_type": "code",
      "metadata": {
        "id": "bXeku2Mm5d6G",
        "outputId": "a32ffc0a-bf93-4081-d143-73b896b5f1d3",
        "colab": {
          "base_uri": "https://localhost:8080/",
          "height": 941
        }
      },
      "source": [
        "# Configure for training\n",
        "epoch = 25\n",
        "optimizer = 'adam'\n",
        "model.compile(loss='categorical_crossentropy', optimizer=optimizer, metrics=['accuracy'])\n",
        "print(model.summary())"
      ],
      "execution_count": null,
      "outputs": [
        {
          "output_type": "stream",
          "text": [
            "Model: \"sequential_8\"\n",
            "_________________________________________________________________\n",
            "Layer (type)                 Output Shape              Param #   \n",
            "=================================================================\n",
            "conv2d_15 (Conv2D)           (None, 32, 32, 32)        896       \n",
            "_________________________________________________________________\n",
            "dropout_22 (Dropout)         (None, 32, 32, 32)        0         \n",
            "_________________________________________________________________\n",
            "batch_normalization_17 (Batc (None, 32, 32, 32)        128       \n",
            "_________________________________________________________________\n",
            "conv2d_16 (Conv2D)           (None, 32, 32, 64)        18496     \n",
            "_________________________________________________________________\n",
            "max_pooling2d_3 (MaxPooling2 (None, 16, 16, 64)        0         \n",
            "_________________________________________________________________\n",
            "dropout_23 (Dropout)         (None, 16, 16, 64)        0         \n",
            "_________________________________________________________________\n",
            "batch_normalization_18 (Batc (None, 16, 16, 64)        256       \n",
            "_________________________________________________________________\n",
            "conv2d_17 (Conv2D)           (None, 16, 16, 64)        36928     \n",
            "_________________________________________________________________\n",
            "max_pooling2d_4 (MaxPooling2 (None, 8, 8, 64)          0         \n",
            "_________________________________________________________________\n",
            "dropout_24 (Dropout)         (None, 8, 8, 64)          0         \n",
            "_________________________________________________________________\n",
            "batch_normalization_19 (Batc (None, 8, 8, 64)          256       \n",
            "_________________________________________________________________\n",
            "conv2d_18 (Conv2D)           (None, 8, 8, 128)         73856     \n",
            "_________________________________________________________________\n",
            "dropout_25 (Dropout)         (None, 8, 8, 128)         0         \n",
            "_________________________________________________________________\n",
            "batch_normalization_20 (Batc (None, 8, 8, 128)         512       \n",
            "_________________________________________________________________\n",
            "flatten_3 (Flatten)          (None, 8192)              0         \n",
            "_________________________________________________________________\n",
            "dropout_26 (Dropout)         (None, 8192)              0         \n",
            "_________________________________________________________________\n",
            "dense_9 (Dense)              (None, 256)               2097408   \n",
            "_________________________________________________________________\n",
            "dropout_27 (Dropout)         (None, 256)               0         \n",
            "_________________________________________________________________\n",
            "batch_normalization_21 (Batc (None, 256)               1024      \n",
            "_________________________________________________________________\n",
            "dense_10 (Dense)             (None, 128)               32896     \n",
            "_________________________________________________________________\n",
            "dropout_28 (Dropout)         (None, 128)               0         \n",
            "_________________________________________________________________\n",
            "batch_normalization_22 (Batc (None, 128)               512       \n",
            "_________________________________________________________________\n",
            "dense_11 (Dense)             (None, 10)                1290      \n",
            "=================================================================\n",
            "Total params: 2,264,458\n",
            "Trainable params: 2,263,114\n",
            "Non-trainable params: 1,344\n",
            "_________________________________________________________________\n",
            "None\n"
          ],
          "name": "stdout"
        }
      ]
    },
    {
      "cell_type": "code",
      "metadata": {
        "id": "iyFb03vrl1bT",
        "outputId": "cd99eb9e-004b-4d76-94fa-80080c2ab18a",
        "colab": {
          "base_uri": "https://localhost:8080/",
          "height": 319
        }
      },
      "source": [
        "# Training\n",
        "numpy.random.seed(seed)\n",
        "model.fit(x_train, y_train, validation_data=(x_test, y_test), epochs=epoch, batch_size=64)"
      ],
      "execution_count": null,
      "outputs": [
        {
          "output_type": "stream",
          "text": [
            "Epoch 1/25\n",
            "782/782 [==============================] - 383s 490ms/step - loss: 1.5021 - accuracy: 0.4682 - val_loss: 1.6100 - val_accuracy: 0.4655\n",
            "Epoch 2/25\n",
            "782/782 [==============================] - 387s 495ms/step - loss: 1.0356 - accuracy: 0.6326 - val_loss: 0.8965 - val_accuracy: 0.6865\n",
            "Epoch 3/25\n",
            "782/782 [==============================] - 380s 487ms/step - loss: 0.8649 - accuracy: 0.6978 - val_loss: 0.8277 - val_accuracy: 0.7043\n",
            "Epoch 4/25\n",
            "782/782 [==============================] - 384s 491ms/step - loss: 0.7688 - accuracy: 0.7289 - val_loss: 0.7027 - val_accuracy: 0.7517\n",
            "Epoch 5/25\n",
            "782/782 [==============================] - 383s 490ms/step - loss: 0.7089 - accuracy: 0.7522 - val_loss: 0.7412 - val_accuracy: 0.7359\n",
            "Epoch 6/25\n",
            "782/782 [==============================] - 379s 485ms/step - loss: 0.6623 - accuracy: 0.7684 - val_loss: 0.6352 - val_accuracy: 0.7821\n",
            "Epoch 7/25\n",
            "782/782 [==============================] - 382s 488ms/step - loss: 0.6352 - accuracy: 0.7772 - val_loss: 0.6804 - val_accuracy: 0.7641\n",
            "Epoch 8/25\n",
            "782/782 [==============================] - 386s 494ms/step - loss: 0.6076 - accuracy: 0.7887 - val_loss: 0.5951 - val_accuracy: 0.7892\n",
            "Epoch 9/25\n",
            "741/782 [===========================>..] - ETA: 18s - loss: 0.5801 - accuracy: 0.7968"
          ],
          "name": "stdout"
        }
      ]
    }
  ]
}